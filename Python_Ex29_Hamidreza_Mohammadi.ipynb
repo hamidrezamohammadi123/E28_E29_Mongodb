{
 "cells": [
  {
   "cell_type": "code",
   "execution_count": null,
   "metadata": {},
   "outputs": [],
   "source": [
    "\"\"\"\n",
    "1.\tCreate a 2D NumPy array with dimensions 5x5, filled with integers from 1 to 25.\n",
    "    Use slicing to:\n",
    "        Extract and display the third row of the array.\n",
    "\t    Extract and display the second column of the array.\n",
    "\n",
    "\"\"\""
   ]
  },
  {
   "cell_type": "code",
   "execution_count": 4,
   "metadata": {},
   "outputs": [
    {
     "name": "stdout",
     "output_type": "stream",
     "text": [
      "matrix[5,5] : \n",
      "[[ 1  2  3  4  5]\n",
      " [ 6  7  8  9 10]\n",
      " [11 12 13 14 15]\n",
      " [16 17 18 19 20]\n",
      " [21 22 23 24 25]]\n",
      "\n",
      "third row     :[11 12 13 14 15]\n",
      "\n",
      "second column :[ 2  7 12 17 22]\n"
     ]
    }
   ],
   "source": [
    "import numpy as np\n",
    "\n",
    "array1 = np.arange(1, 26).reshape(5, 5)     #2D NumPy array with dimensions 5x5, filled with integers from 1 to 25\n",
    "print(\"matrix[5,5] : \")\n",
    "print(array1)\n",
    "print()\n",
    "\n",
    "\n",
    "row = array1[2, :]                          # Display the third row \n",
    "print(f\"third row     :{row}\")\n",
    "print()\n",
    "\n",
    "col = array1[:, 1]                           #  Display the second column\n",
    "print(f\"second column :{col}\")"
   ]
  },
  {
   "cell_type": "code",
   "execution_count": null,
   "metadata": {},
   "outputs": [],
   "source": [
    "\"\"\"\n",
    "2.\tCreate a 2D NumPy array with dimensions 3x4, filled with any integers of your choice. \n",
    "    Access and print the element at the second row and third column.\n",
    "\n",
    "\"\"\""
   ]
  },
  {
   "cell_type": "code",
   "execution_count": 13,
   "metadata": {},
   "outputs": [
    {
     "name": "stdout",
     "output_type": "stream",
     "text": [
      "matrix[3,4] : \n",
      "[[78 88 63 58]\n",
      " [73 48 30 50]\n",
      " [66 37 96 80]]\n",
      "\n",
      "The number in the second row and third column: 30\n"
     ]
    }
   ],
   "source": [
    "\n",
    "array1 = np.random.randint(low=0, high=100, size=(3, 4))          #  NumPy array [3x4], filled with random numbers\n",
    "print(\"matrix[3,4] : \")\n",
    "print(array1)\n",
    "print()\n",
    "\n",
    "num = array1[1, 2]                                                #  Second row and third column\n",
    "print(f\"The number in the second row and third column: {num}\")"
   ]
  },
  {
   "cell_type": "code",
   "execution_count": null,
   "metadata": {},
   "outputs": [],
   "source": [
    "\"\"\" \n",
    "3.\tCreate two NumPyarrays of the same size with random integers. \n",
    "    Calculate their element-wise sum and then display elements from new arrays wherever the sum is greater than 50.\n",
    "\"\"\""
   ]
  },
  {
   "cell_type": "code",
   "execution_count": 14,
   "metadata": {},
   "outputs": [
    {
     "name": "stdout",
     "output_type": "stream",
     "text": [
      "Array 1:\n",
      "[[24 22 21]\n",
      " [25 11 19]\n",
      " [16 29 33]]\n",
      "\n",
      "Array 2:\n",
      "[[18 32 14]\n",
      " [12 16 11]\n",
      " [12 17 11]]\n",
      "\n",
      "Sum of arrays:\n",
      "[[42 54 35]\n",
      " [37 27 30]\n",
      " [28 46 44]]\n",
      "Elements where sum is greater than 50:\n",
      "From  array 1   :[22]\n",
      "From  array 2   :[32]\n",
      "Where sum array :[54]\n"
     ]
    }
   ],
   "source": [
    "array1 = np.random.randint(low=10, high=35, size=(3, 3))\n",
    "array2 = np.random.randint(low=10, high=35, size=(3, 3))\n",
    "\n",
    "\n",
    "print(\"Array 1:\")\n",
    "print(array1)\n",
    "print()\n",
    "\n",
    "print(\"Array 2:\")\n",
    "print(array2)\n",
    "print()\n",
    "\n",
    "\n",
    "array_sum = np.add(array1, array2)   # The sum of their elements\n",
    "\n",
    "# display the sum array\n",
    "print(\"Sum of arrays:\")              # display the sum \n",
    "print(array_sum)\n",
    "\n",
    "print(\"Elements where sum is greater than 50:\")\n",
    "print(f\"From  array 1   :{array1[array_sum > 50]}\")\n",
    "print(f\"From  array 2   :{array2[array_sum > 50]}\")\n",
    "print(f\"Where sum array :{array_sum[array_sum > 50]}\")"
   ]
  }
 ],
 "metadata": {
  "kernelspec": {
   "display_name": "Python 3",
   "language": "python",
   "name": "python3"
  },
  "language_info": {
   "codemirror_mode": {
    "name": "ipython",
    "version": 3
   },
   "file_extension": ".py",
   "mimetype": "text/x-python",
   "name": "python",
   "nbconvert_exporter": "python",
   "pygments_lexer": "ipython3",
   "version": "3.9.7"
  }
 },
 "nbformat": 4,
 "nbformat_minor": 2
}
